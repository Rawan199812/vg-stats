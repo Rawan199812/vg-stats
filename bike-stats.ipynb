{
 "cells": [
  {
   "cell_type": "markdown",
   "id": "2ec01406-8856-4184-86f4-2c3b1aadc39e",
   "metadata": {},
   "source": [
    "**Lab: Data Analysis with Pandas**\n",
    "- Cycle Share Data set \n",
    "\n",
    "**Rawan Abu Yasein**\n",
    "\n",
    "***25/5/2021***\n"
   ]
  },
  {
   "cell_type": "code",
   "execution_count": 2,
   "id": "a235ad76-1222-423e-b950-be6b3b190210",
   "metadata": {},
   "outputs": [],
   "source": [
    "import pandas as pd\n"
   ]
  },
  {
   "cell_type": "code",
   "execution_count": 21,
   "id": "01ed32b3-5c92-473f-9670-a1f2702623bb",
   "metadata": {},
   "outputs": [
    {
     "name": "stderr",
     "output_type": "stream",
     "text": [
      "b'Skipping line 50794: expected 12 fields, saw 20\\n'\n"
     ]
    }
   ],
   "source": [
    "Trip = pd.read_csv('trip.csv', error_bad_lines=False)\n",
    "# Trip = pd.read_csv(\"trip.csv\", sep='delimiter', header=None)\n",
    "Station = pd.read_csv(\"station.csv\")\n",
    "Weather = pd.read_csv(\"weather.csv\")\n"
   ]
  },
  {
   "cell_type": "markdown",
   "id": "1c196e64-5275-48a7-b897-d4669cda83e2",
   "metadata": {},
   "source": [
    "## What is the average trip duration for a borrowed bicycle?\n"
   ]
  },
  {
   "cell_type": "code",
   "execution_count": 24,
   "id": "377ab4d2-d94a-4830-8882-ed63f0384665",
   "metadata": {},
   "outputs": [
    {
     "data": {
      "text/plain": [
       "1178.2956753399776"
      ]
     },
     "execution_count": 24,
     "metadata": {},
     "output_type": "execute_result"
    }
   ],
   "source": [
    "Trip[\"tripduration\"].mean()"
   ]
  },
  {
   "cell_type": "markdown",
   "id": "87daf2ef-a8d3-4637-ba9e-7e8d00ccda25",
   "metadata": {},
   "source": [
    "## What’s the most common age of a bicycle-sharer?"
   ]
  },
  {
   "cell_type": "code",
   "execution_count": 45,
   "id": "d8a7e6f6-7020-4628-9744-2fc463872f48",
   "metadata": {},
   "outputs": [
    {
     "data": {
      "text/plain": [
       "34"
      ]
     },
     "execution_count": 45,
     "metadata": {},
     "output_type": "execute_result"
    }
   ],
   "source": [
    "common_year= Trip[[\"birthyear\"]].mode()\n",
    "2021- common_year\n"
   ]
  },
  {
   "cell_type": "markdown",
   "id": "fb280c4d-d7ee-4c01-90ad-f8e6cf78c2ae",
   "metadata": {},
   "source": [
    "## Given all the weather data here, find the average precipitation per month, and the median precipitation."
   ]
  },
  {
   "cell_type": "code",
   "execution_count": 52,
   "id": "f9411ab3-46b9-4d95-9a77-67b9dfabac34",
   "metadata": {},
   "outputs": [
    {
     "data": {
      "text/plain": [
       "Date\n",
       "1/1/2015     0.00\n",
       "1/1/2016     0.00\n",
       "1/10/2015    0.18\n",
       "1/10/2016    0.00\n",
       "1/11/2015    0.06\n",
       "             ... \n",
       "9/5/2015     0.06\n",
       "9/6/2015     0.19\n",
       "9/7/2015     0.00\n",
       "9/8/2015     0.00\n",
       "9/9/2015     0.00\n",
       "Name: Precipitation_In, Length: 689, dtype: float64"
      ]
     },
     "execution_count": 52,
     "metadata": {},
     "output_type": "execute_result"
    }
   ],
   "source": [
    "s=Weather.groupby('Date')['Precipitation_In']\n",
    "s.mean()\n",
    "\n",
    "# Weather.groupby[\"Date\"]\n",
    "# Weather.head(5)"
   ]
  },
  {
   "cell_type": "code",
   "execution_count": 53,
   "id": "63d9c582-adcd-4f80-b55b-7e4ea3811907",
   "metadata": {},
   "outputs": [
    {
     "data": {
      "text/plain": [
       "Date\n",
       "1/1/2015     0.00\n",
       "1/1/2016     0.00\n",
       "1/10/2015    0.18\n",
       "1/10/2016    0.00\n",
       "1/11/2015    0.06\n",
       "             ... \n",
       "9/5/2015     0.06\n",
       "9/6/2015     0.19\n",
       "9/7/2015     0.00\n",
       "9/8/2015     0.00\n",
       "9/9/2015     0.00\n",
       "Name: Precipitation_In, Length: 689, dtype: float64"
      ]
     },
     "execution_count": 53,
     "metadata": {},
     "output_type": "execute_result"
    }
   ],
   "source": [
    "s.median()"
   ]
  },
  {
   "cell_type": "markdown",
   "id": "662bba99-4488-4b32-83fa-8cc9828ed592",
   "metadata": {},
   "source": [
    "## What’s the average number of bikes at a given bike station?"
   ]
  },
  {
   "cell_type": "code",
   "execution_count": 113,
   "id": "08fe1c1d-0b63-4f32-abf6-d615cd67d39a",
   "metadata": {},
   "outputs": [
    {
     "data": {
      "text/plain": [
       "16.517241379310345"
      ]
     },
     "execution_count": 113,
     "metadata": {},
     "output_type": "execute_result"
    }
   ],
   "source": [
    "# while finding mean, it skip null values  (default True)\n",
    "# Station['current_dockcount']mean()\n",
    "Station.current_dockcount.mean()"
   ]
  },
  {
   "cell_type": "markdown",
   "id": "f3c1986e-674d-47a7-953c-95fff1dcce8c",
   "metadata": {},
   "source": [
    "## When a bike station is modified, is it more likely that it’ll lose bikes or gain bikes? How do you know?"
   ]
  },
  {
   "cell_type": "code",
   "execution_count": 112,
   "id": "2521794f-5c7a-44c1-a819-d0e402fc1c59",
   "metadata": {},
   "outputs": [
    {
     "data": {
      "text/plain": [
       "-62"
      ]
     },
     "execution_count": 112,
     "metadata": {},
     "output_type": "execute_result"
    }
   ],
   "source": [
    "# Station[[\"install_dockcount\", \"current_dockcount\"]]\n",
    "\n",
    "Station[\"current_dockcount\"].sum() - Station[\"install_dockcount\"].sum() \n"
   ]
  },
  {
   "cell_type": "markdown",
   "id": "9e111662-f3d3-4082-bd2b-fb93d5214b83",
   "metadata": {},
   "source": [
    "No because the sum of the current_dockcount is bigger then the install_dockcount"
   ]
  },
  {
   "cell_type": "markdown",
   "id": "9e6febf9-5123-4845-b186-d305b6c00bed",
   "metadata": {},
   "source": [
    "\n",
    "## 1.What are the most cold days?"
   ]
  },
  {
   "cell_type": "code",
   "execution_count": 78,
   "id": "e6270285-b5fc-48cc-a1ac-9926e367d3ca",
   "metadata": {},
   "outputs": [
    {
     "data": {
      "text/html": [
       "<div>\n",
       "<style scoped>\n",
       "    .dataframe tbody tr th:only-of-type {\n",
       "        vertical-align: middle;\n",
       "    }\n",
       "\n",
       "    .dataframe tbody tr th {\n",
       "        vertical-align: top;\n",
       "    }\n",
       "\n",
       "    .dataframe thead th {\n",
       "        text-align: right;\n",
       "    }\n",
       "</style>\n",
       "<table border=\"1\" class=\"dataframe\">\n",
       "  <thead>\n",
       "    <tr style=\"text-align: right;\">\n",
       "      <th></th>\n",
       "      <th>Date</th>\n",
       "      <th>Min_TemperatureF</th>\n",
       "    </tr>\n",
       "  </thead>\n",
       "  <tbody>\n",
       "    <tr>\n",
       "      <th>0</th>\n",
       "      <td>10/13/2014</td>\n",
       "      <td>54</td>\n",
       "    </tr>\n",
       "    <tr>\n",
       "      <th>1</th>\n",
       "      <td>10/14/2014</td>\n",
       "      <td>55</td>\n",
       "    </tr>\n",
       "    <tr>\n",
       "      <th>2</th>\n",
       "      <td>10/15/2014</td>\n",
       "      <td>54</td>\n",
       "    </tr>\n",
       "    <tr>\n",
       "      <th>3</th>\n",
       "      <td>10/16/2014</td>\n",
       "      <td>52</td>\n",
       "    </tr>\n",
       "    <tr>\n",
       "      <th>4</th>\n",
       "      <td>10/17/2014</td>\n",
       "      <td>57</td>\n",
       "    </tr>\n",
       "    <tr>\n",
       "      <th>...</th>\n",
       "      <td>...</td>\n",
       "      <td>...</td>\n",
       "    </tr>\n",
       "    <tr>\n",
       "      <th>684</th>\n",
       "      <td>8/27/2016</td>\n",
       "      <td>61</td>\n",
       "    </tr>\n",
       "    <tr>\n",
       "      <th>685</th>\n",
       "      <td>8/28/2016</td>\n",
       "      <td>59</td>\n",
       "    </tr>\n",
       "    <tr>\n",
       "      <th>686</th>\n",
       "      <td>8/29/2016</td>\n",
       "      <td>55</td>\n",
       "    </tr>\n",
       "    <tr>\n",
       "      <th>687</th>\n",
       "      <td>8/30/2016</td>\n",
       "      <td>57</td>\n",
       "    </tr>\n",
       "    <tr>\n",
       "      <th>688</th>\n",
       "      <td>8/31/2016</td>\n",
       "      <td>59</td>\n",
       "    </tr>\n",
       "  </tbody>\n",
       "</table>\n",
       "<p>689 rows × 2 columns</p>\n",
       "</div>"
      ],
      "text/plain": [
       "           Date  Min_TemperatureF\n",
       "0    10/13/2014                54\n",
       "1    10/14/2014                55\n",
       "2    10/15/2014                54\n",
       "3    10/16/2014                52\n",
       "4    10/17/2014                57\n",
       "..          ...               ...\n",
       "684   8/27/2016                61\n",
       "685   8/28/2016                59\n",
       "686   8/29/2016                55\n",
       "687   8/30/2016                57\n",
       "688   8/31/2016                59\n",
       "\n",
       "[689 rows x 2 columns]"
      ]
     },
     "execution_count": 78,
     "metadata": {},
     "output_type": "execute_result"
    }
   ],
   "source": [
    "Weather[Weather[\"Min_TemperatureF\"] >= 10][[\"Date\",\"Min_TemperatureF\"]]"
   ]
  },
  {
   "cell_type": "markdown",
   "id": "a5d39a88-897c-49e0-80e8-31710f37b8ed",
   "metadata": {},
   "source": [
    "## 2.Are men riding bicycles more?"
   ]
  },
  {
   "cell_type": "code",
   "execution_count": 110,
   "id": "133fd513-fb3b-40a2-a089-35595cd4fedf",
   "metadata": {},
   "outputs": [
    {
     "name": "stdout",
     "output_type": "stream",
     "text": [
      "Yes\n"
     ]
    }
   ],
   "source": [
    "without_null = Trip[\"gender\"].dropna().value_counts()\n",
    "# male = without_null.str.contains('Male').count()\n",
    "# without_null[Trip.gender('Male')==True].value_count()\n",
    "without_null \n",
    "if without_null.Female >  without_null.Male:\n",
    "    print('No')\n",
    "else:\n",
    "    print('Yes')\n"
   ]
  },
  {
   "cell_type": "markdown",
   "id": "bbfb0eb7-6b57-4da4-899c-4d30a8ebca08",
   "metadata": {},
   "source": [
    "\n",
    "## 3.Has humidity reached to 90 before?"
   ]
  },
  {
   "cell_type": "code",
   "execution_count": 94,
   "id": "9e488ce9-ebfd-4b2e-b597-f2bf3ef51cc6",
   "metadata": {},
   "outputs": [
    {
     "name": "stdout",
     "output_type": "stream",
     "text": [
      "Yes\n"
     ]
    }
   ],
   "source": [
    "if 90 in Weather[\"Max_Humidity\"].values:\n",
    "    print('Yes')\n",
    "else:\n",
    "    print('No')\n",
    "    "
   ]
  },
  {
   "cell_type": "code",
   "execution_count": null,
   "id": "cdd581d3-cf8c-408f-a412-3e5beed1fe4e",
   "metadata": {},
   "outputs": [],
   "source": []
  },
  {
   "cell_type": "code",
   "execution_count": null,
   "id": "051d48cc-35bd-4572-9895-1a59fdc483c9",
   "metadata": {},
   "outputs": [],
   "source": []
  }
 ],
 "metadata": {
  "kernelspec": {
   "display_name": "Python 3",
   "language": "python",
   "name": "python3"
  },
  "language_info": {
   "codemirror_mode": {
    "name": "ipython",
    "version": 3
   },
   "file_extension": ".py",
   "mimetype": "text/x-python",
   "name": "python",
   "nbconvert_exporter": "python",
   "pygments_lexer": "ipython3",
   "version": "3.8.5"
  }
 },
 "nbformat": 4,
 "nbformat_minor": 5
}